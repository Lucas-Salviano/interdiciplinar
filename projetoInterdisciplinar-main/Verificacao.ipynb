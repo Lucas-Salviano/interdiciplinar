{
 "cells": [
  {
   "cell_type": "markdown",
   "metadata": {},
   "source": [
    "Importações(tudo certo)"
   ]
  },
  {
   "cell_type": "code",
   "execution_count": 30,
   "metadata": {},
   "outputs": [],
   "source": [
    "import psycopg2 #pip install psycopg2 ou pip install psycopg2-binary\n",
    "import pandas as pd \n",
    "import numpy as np\n",
    "from sklearn.linear_model import LinearRegression\n",
    "from sklearn.model_selection import train_test_split\n",
    "from sklearn.preprocessing import LabelEncoder\n",
    "from scipy.stats import shapiro, kruskal, f_oneway\n",
    "import statsmodels.api as sm\n",
    "import matplotlib.pyplot as plt"
   ]
  },
  {
   "cell_type": "markdown",
   "metadata": {},
   "source": [
    "Conexão com o banco de Dados(tudo certo)"
   ]
  },
  {
   "cell_type": "code",
   "execution_count": 31,
   "metadata": {},
   "outputs": [
    {
     "name": "stdout",
     "output_type": "stream",
     "text": [
      "Conexão bem-sucedida!\n",
      "Dados carregados com sucesso!\n",
      "     algoritmo                               cenario  tempoexecucao  \\\n",
      "0  Bubble Sort  Cenário 1 - Vetor ordenado crescente         595886   \n",
      "1   Merge Sort  Cenário 1 - Vetor ordenado crescente           6472   \n",
      "2   Quick Sort  Cenário 1 - Vetor ordenado crescente           4498   \n",
      "3   Shell Sort  Cenário 1 - Vetor ordenado crescente           6782   \n",
      "4  Bubble Sort  Cenário 1 - Vetor ordenado crescente         557253   \n",
      "\n",
      "           processador   ram  \n",
      "0  intel core i5 10gen  16GB  \n",
      "1  intel core i5 10gen  16GB  \n",
      "2  intel core i5 10gen  16GB  \n",
      "3  intel core i5 10gen  16GB  \n",
      "4  intel core i5 10gen  16GB  \n",
      "Conexão fechada.\n"
     ]
    },
    {
     "name": "stderr",
     "output_type": "stream",
     "text": [
      "C:\\Users\\lucas\\AppData\\Local\\Temp\\ipykernel_24668\\626593929.py:36: UserWarning: pandas only supports SQLAlchemy connectable (engine/connection) or database string URI or sqlite3 DBAPI2 connection. Other DBAPI2 objects are not tested. Please consider using SQLAlchemy.\n",
      "  df = pd.read_sql_query(query, connection)\n"
     ]
    }
   ],
   "source": [
    "import psycopg2\n",
    "import pandas as pd\n",
    "\n",
    "# Parâmetros de conexão\n",
    "host = \"localhost\"         # Substitua pelo IP/hostname do servidor, se não for local\n",
    "port = \"5432\"              # Porta padrão do PostgreSQL\n",
    "database = \"Projeto\"       # Nome do banco de dados\n",
    "user = \"postgres\"          # Nome do usuário\n",
    "password = \"teste\"         # Senha do usuário\n",
    "\n",
    "# Conectar ao banco de dados\n",
    "try:\n",
    "    connection = psycopg2.connect(\n",
    "        host=host,\n",
    "        port=port,\n",
    "        database=database,\n",
    "        user=user,\n",
    "        password=password\n",
    "    )\n",
    "    print(\"Conexão bem-sucedida!\")\n",
    "\n",
    "    # Criar um cursor para executar comandos SQL\n",
    "    cursor = connection.cursor()\n",
    "\n",
    "    # Carregar dados diretamente do banco para o pandas\n",
    "    query = \"\"\"\n",
    "    SELECT \n",
    "        r.algoritmo,\n",
    "        r.cenario,\n",
    "        r.tempoexecucao,\n",
    "        m.processador,\n",
    "        m.ram\n",
    "    FROM resultados r\n",
    "    JOIN maquina m ON r.id_maquina_a = m.id_maquina;\n",
    "    \"\"\"\n",
    "    df = pd.read_sql_query(query, connection)\n",
    "    print(\"Dados carregados com sucesso!\")\n",
    "    print(df.head())  # Mostrar as 5 primeiras linhas\n",
    "\n",
    "except psycopg2.Error as e:\n",
    "    print(\"Erro ao conectar ao PostgreSQL:\", e)\n",
    "\n",
    "# Fechar a conexão e o cursor\n",
    "finally:\n",
    "    if connection:\n",
    "        cursor.close()\n",
    "        connection.close()\n",
    "        print(\"Conexão fechada.\")"
   ]
  },
  {
   "cell_type": "markdown",
   "metadata": {},
   "source": [
    "analise inicial(certo)"
   ]
  },
  {
   "cell_type": "code",
   "execution_count": 32,
   "metadata": {},
   "outputs": [
    {
     "name": "stdout",
     "output_type": "stream",
     "text": [
      "     algoritmo                               cenario  tempoexecucao  \\\n",
      "0  Bubble Sort  Cenário 1 - Vetor ordenado crescente         595886   \n",
      "1   Merge Sort  Cenário 1 - Vetor ordenado crescente           6472   \n",
      "2   Quick Sort  Cenário 1 - Vetor ordenado crescente           4498   \n",
      "3   Shell Sort  Cenário 1 - Vetor ordenado crescente           6782   \n",
      "4  Bubble Sort  Cenário 1 - Vetor ordenado crescente         557253   \n",
      "\n",
      "           processador   ram  \n",
      "0  intel core i5 10gen  16GB  \n",
      "1  intel core i5 10gen  16GB  \n",
      "2  intel core i5 10gen  16GB  \n",
      "3  intel core i5 10gen  16GB  \n",
      "4  intel core i5 10gen  16GB  \n"
     ]
    }
   ],
   "source": [
    "# Verificar as primeiras linhas do DataFrame para entender a estrutura\n",
    "print(df.head())"
   ]
  },
  {
   "cell_type": "markdown",
   "metadata": {},
   "source": [
    "certo"
   ]
  },
  {
   "cell_type": "code",
   "execution_count": 33,
   "metadata": {},
   "outputs": [
    {
     "name": "stdout",
     "output_type": "stream",
     "text": [
      "\n",
      "Estatísticas gerais (tempo de execução):\n",
      "count    2.160000e+03\n",
      "mean     9.866122e+07\n",
      "std      5.553921e+08\n",
      "min      1.178000e+03\n",
      "25%      2.316750e+03\n",
      "50%      2.381350e+04\n",
      "75%      3.817215e+05\n",
      "max      4.586536e+09\n",
      "Name: tempoexecucao, dtype: float64\n"
     ]
    }
   ],
   "source": [
    "# Estatísticas gerais de tempo de execução\n",
    "print(\"\\nEstatísticas gerais (tempo de execução):\")\n",
    "print(df['tempoexecucao'].describe())"
   ]
  },
  {
   "cell_type": "markdown",
   "metadata": {},
   "source": [
    "certo"
   ]
  },
  {
   "cell_type": "code",
   "execution_count": 34,
   "metadata": {},
   "outputs": [
    {
     "name": "stdout",
     "output_type": "stream",
     "text": [
      "\n",
      "Estatísticas por Algoritmo:\n",
      "                     mean           std     min         max  count\n",
      "algoritmo                                                         \n",
      "Bubble Sort  3.944837e+08  1.057668e+09  370047  4586535883    540\n",
      "Merge Sort   3.118237e+04  5.612014e+04    1408      449850    540\n",
      "Quick Sort   3.170331e+04  6.016756e+04    1178      300530    540\n",
      "Shell Sort   9.828180e+04  2.092653e+05    2092      984104    540\n"
     ]
    }
   ],
   "source": [
    "# Estatísticas por Algoritmo (média, desvio padrão, mínimo, máximo, etc.)\n",
    "print(\"\\nEstatísticas por Algoritmo:\")\n",
    "algoritmo_stats = df.groupby(\"algoritmo\")[\"tempoexecucao\"].agg(['mean', 'std', 'min', 'max', 'count'])\n",
    "print(algoritmo_stats)"
   ]
  },
  {
   "cell_type": "markdown",
   "metadata": {},
   "source": [
    "certo"
   ]
  },
  {
   "cell_type": "code",
   "execution_count": 35,
   "metadata": {},
   "outputs": [
    {
     "name": "stdout",
     "output_type": "stream",
     "text": [
      "\n",
      "Estatísticas por Cenário e Algoritmo:\n",
      "                                                             mean  \\\n",
      "cenario                                 algoritmo                   \n",
      "Cenário 1 - Vetor ordenado crescente    Bubble Sort  4.162977e+08   \n",
      "                                        Merge Sort   3.152770e+04   \n",
      "                                        Quick Sort   3.330232e+04   \n",
      "                                        Shell Sort   1.041741e+05   \n",
      "Cenário 2 - Vetor ordenado decrescente  Bubble Sort  3.738545e+08   \n",
      "                                        Merge Sort   3.073189e+04   \n",
      "                                        Quick Sort   3.163922e+04   \n",
      "                                        Shell Sort   9.941184e+04   \n",
      "Cenário 3 - Vetor aleatório             Bubble Sort  3.798978e+08   \n",
      "                                        Merge Sort   3.140327e+04   \n",
      "                                        Quick Sort   3.107602e+04   \n",
      "                                        Shell Sort   9.524615e+04   \n",
      "Cenário 4 - Vetor de strings aleatórias Bubble Sort  4.078849e+08   \n",
      "                                        Merge Sort   3.106662e+04   \n",
      "                                        Quick Sort   3.079568e+04   \n",
      "                                        Shell Sort   9.429507e+04   \n",
      "\n",
      "                                                              std     min  \\\n",
      "cenario                                 algoritmo                           \n",
      "Cenário 1 - Vetor ordenado crescente    Bubble Sort  1.134003e+09  376448   \n",
      "                                        Merge Sort   5.547955e+04    1417   \n",
      "                                        Quick Sort   6.554060e+04    1178   \n",
      "                                        Shell Sort   2.276003e+05    2092   \n",
      "Cenário 2 - Vetor ordenado decrescente  Bubble Sort  9.948981e+08  375608   \n",
      "                                        Merge Sort   5.625008e+04    1433   \n",
      "                                        Quick Sort   6.011598e+04    1195   \n",
      "                                        Shell Sort   2.119936e+05    2149   \n",
      "Cenário 3 - Vetor aleatório             Bubble Sort  1.012813e+09  375397   \n",
      "                                        Merge Sort   5.991222e+04    1408   \n",
      "                                        Quick Sort   5.828605e+04    1224   \n",
      "                                        Shell Sort   2.002524e+05    2135   \n",
      "Cenário 4 - Vetor de strings aleatórias Bubble Sort  1.093988e+09  370047   \n",
      "                                        Merge Sort   5.325860e+04    1423   \n",
      "                                        Quick Sort   5.701771e+04    1203   \n",
      "                                        Shell Sort   1.980974e+05    2106   \n",
      "\n",
      "                                                            max  count  \n",
      "cenario                                 algoritmo                       \n",
      "Cenário 1 - Vetor ordenado crescente    Bubble Sort  4586535883    135  \n",
      "                                        Merge Sort       239340    135  \n",
      "                                        Quick Sort       300530    135  \n",
      "                                        Shell Sort       984104    135  \n",
      "Cenário 2 - Vetor ordenado decrescente  Bubble Sort  3666728883    135  \n",
      "                                        Merge Sort       380942    135  \n",
      "                                        Quick Sort       224290    135  \n",
      "                                        Shell Sort       830807    135  \n",
      "Cenário 3 - Vetor aleatório             Bubble Sort  3931355592    135  \n",
      "                                        Merge Sort       449850    135  \n",
      "                                        Quick Sort       227404    135  \n",
      "                                        Shell Sort       696661    135  \n",
      "Cenário 4 - Vetor de strings aleatórias Bubble Sort  4057493231    135  \n",
      "                                        Merge Sort       213549    135  \n",
      "                                        Quick Sort       215094    135  \n",
      "                                        Shell Sort       717899    135  \n"
     ]
    }
   ],
   "source": [
    "# Estatísticas por Cenário (tamanho da amostra) e Algoritmo\n",
    "print(\"\\nEstatísticas por Cenário e Algoritmo:\")\n",
    "cenario_stats = df.groupby([\"cenario\", \"algoritmo\"])[\"tempoexecucao\"].agg(['mean', 'std', 'min', 'max', 'count'])\n",
    "print(cenario_stats)"
   ]
  },
  {
   "cell_type": "markdown",
   "metadata": {},
   "source": [
    "certo"
   ]
  },
  {
   "cell_type": "code",
   "execution_count": 36,
   "metadata": {},
   "outputs": [
    {
     "name": "stdout",
     "output_type": "stream",
     "text": [
      "\n",
      "Estatísticas por Processador e RAM:\n",
      "                                   mean           std   min         max  count\n",
      "processador          ram                                                      \n",
      "intel core i5 10gen  16GB  1.328563e+08  6.625409e+08  1530  4586535883   1120\n",
      "intel core i5 12500h 8GB   6.183576e+07  4.069290e+08  1178  3931355592   1040\n"
     ]
    }
   ],
   "source": [
    "# Estatísticas por Processador (usando a variável de RAM para o tamanho de amostra)\n",
    "print(\"\\nEstatísticas por Processador e RAM:\")\n",
    "processador_ram_stats = df.groupby([\"processador\", \"ram\"])[\"tempoexecucao\"].agg(['mean', 'std', 'min', 'max', 'count'])\n",
    "print(processador_ram_stats)"
   ]
  },
  {
   "cell_type": "markdown",
   "metadata": {},
   "source": [
    "Verificar normalidade dos tempos de execução por algoritmo:"
   ]
  },
  {
   "cell_type": "code",
   "execution_count": 37,
   "metadata": {},
   "outputs": [
    {
     "name": "stdout",
     "output_type": "stream",
     "text": [
      "Testes de Normalidade (Shapiro-Wilk):\n",
      "Algoritmo: Bubble Sort, p-valor: 0.0000\n",
      "  -> Os dados NÃO seguem uma distribuição normal (p <= 0.05).\n",
      "Algoritmo: Merge Sort, p-valor: 0.0000\n",
      "  -> Os dados NÃO seguem uma distribuição normal (p <= 0.05).\n",
      "Algoritmo: Quick Sort, p-valor: 0.0000\n",
      "  -> Os dados NÃO seguem uma distribuição normal (p <= 0.05).\n",
      "Algoritmo: Shell Sort, p-valor: 0.0000\n",
      "  -> Os dados NÃO seguem uma distribuição normal (p <= 0.05).\n"
     ]
    }
   ],
   "source": [
    "# Agrupar os tempos de execução por algoritmo\n",
    "algoritmos = df['algoritmo'].unique()\n",
    "\n",
    "print(\"Testes de Normalidade (Shapiro-Wilk):\")\n",
    "for algoritmo in algoritmos:\n",
    "    tempos = df[df['algoritmo'] == algoritmo]['tempoexecucao']\n",
    "    stat, p = shapiro(tempos)\n",
    "    print(f\"Algoritmo: {algoritmo}, p-valor: {p:.4f}\")\n",
    "    if p > 0.05:\n",
    "        print(f\"  -> Os dados seguem uma distribuição normal (p > 0.05).\")\n",
    "    else:\n",
    "        print(f\"  -> Os dados NÃO seguem uma distribuição normal (p <= 0.05).\")"
   ]
  },
  {
   "cell_type": "markdown",
   "metadata": {},
   "source": [
    "Comparar médias entre os algoritmos"
   ]
  },
  {
   "cell_type": "code",
   "execution_count": 38,
   "metadata": {},
   "outputs": [
    {
     "name": "stdout",
     "output_type": "stream",
     "text": [
      "\n",
      "Teste ANOVA:\n",
      "Estatística F: 75.0992, p-valor: 0.0000\n",
      "  -> Há diferenças significativas entre os algoritmos (p <= 0.05).\n"
     ]
    }
   ],
   "source": [
    "# Tempos por algoritmo\n",
    "tempos_algoritmos = [df[df['algoritmo'] == algoritmo]['tempoexecucao'] for algoritmo in algoritmos]\n",
    "\n",
    "# Teste ANOVA\n",
    "anova_stat, anova_p = f_oneway(*tempos_algoritmos)\n",
    "print(\"\\nTeste ANOVA:\")\n",
    "print(f\"Estatística F: {anova_stat:.4f}, p-valor: {anova_p:.4f}\")\n",
    "\n",
    "if anova_p > 0.05:\n",
    "    print(\"  -> Não há diferenças significativas entre os algoritmos (p > 0.05).\")\n",
    "else:\n",
    "    print(\"  -> Há diferenças significativas entre os algoritmos (p <= 0.05).\")\n"
   ]
  },
  {
   "cell_type": "code",
   "execution_count": 39,
   "metadata": {},
   "outputs": [
    {
     "name": "stdout",
     "output_type": "stream",
     "text": [
      "\n",
      "Teste Kruskal-Wallis:\n",
      "Estatística H: 1260.0549, p-valor: 0.0000\n",
      "  -> Há diferenças significativas entre os algoritmos (p <= 0.05).\n"
     ]
    }
   ],
   "source": [
    "# Teste Kruskal-Wallis\n",
    "kruskal_stat, kruskal_p = kruskal(*tempos_algoritmos)\n",
    "print(\"\\nTeste Kruskal-Wallis:\")\n",
    "print(f\"Estatística H: {kruskal_stat:.4f}, p-valor: {kruskal_p:.4f}\")\n",
    "\n",
    "if kruskal_p > 0.05:\n",
    "    print(\"  -> Não há diferenças significativas entre os algoritmos (p > 0.05).\")\n",
    "else:\n",
    "    print(\"  -> Há diferenças significativas entre os algoritmos (p <= 0.05).\")"
   ]
  },
  {
   "cell_type": "code",
   "execution_count": null,
   "metadata": {},
   "outputs": [],
   "source": []
  }
 ],
 "metadata": {
  "kernelspec": {
   "display_name": "Python 3",
   "language": "python",
   "name": "python3"
  },
  "language_info": {
   "codemirror_mode": {
    "name": "ipython",
    "version": 3
   },
   "file_extension": ".py",
   "mimetype": "text/x-python",
   "name": "python",
   "nbconvert_exporter": "python",
   "pygments_lexer": "ipython3",
   "version": "3.12.7"
  }
 },
 "nbformat": 4,
 "nbformat_minor": 2
}
